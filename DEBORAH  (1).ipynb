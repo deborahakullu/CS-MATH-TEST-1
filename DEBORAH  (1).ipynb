{
 "cells": [
  {
   "cell_type": "code",
   "execution_count": 1,
   "id": "9818753c",
   "metadata": {},
   "outputs": [
    {
     "ename": "SyntaxError",
     "evalue": "invalid syntax (3933846710.py, line 1)",
     "output_type": "error",
     "traceback": [
      "\u001b[1;36m  Input \u001b[1;32mIn [1]\u001b[1;36m\u001b[0m\n\u001b[1;33m    Name        : AKULLU DEBORAH\u001b[0m\n\u001b[1;37m                         ^\u001b[0m\n\u001b[1;31mSyntaxError\u001b[0m\u001b[1;31m:\u001b[0m invalid syntax\n"
     ]
    }
   ],
   "source": [
    "Name        : AKULLU DEBORAH\n",
    "REG NO      : 2022/DCSE/OO5/SS\n",
    "Date        : 29/07/2022\n",
    "Task        : Test 1\n",
    "Course unit : Mathematical computing\n",
    "Note        : This note book contains solutions for the test"
   ]
  },
  {
   "cell_type": "code",
   "execution_count": 2,
   "id": "403dcd7d",
   "metadata": {},
   "outputs": [],
   "source": [
    "import numpy as np"
   ]
  },
  {
   "cell_type": "code",
   "execution_count": 3,
   "id": "b2db7769",
   "metadata": {},
   "outputs": [
    {
     "name": "stdout",
     "output_type": "stream",
     "text": [
      "[25  2  5]\n"
     ]
    }
   ],
   "source": [
    "#SECTION 2\n",
    "# number 4\n",
    "#generating a numpy array\n",
    "x= np.array([25,2,5])\n",
    "print(x)"
   ]
  },
  {
   "cell_type": "code",
   "execution_count": 4,
   "id": "10c0c4c3",
   "metadata": {},
   "outputs": [
    {
     "data": {
      "text/plain": [
       "(3,)"
      ]
     },
     "execution_count": 4,
     "metadata": {},
     "output_type": "execute_result"
    }
   ],
   "source": [
    "#generating the shape of an array\n",
    "x.shape\n"
   ]
  },
  {
   "cell_type": "code",
   "execution_count": 5,
   "id": "5d203bc7",
   "metadata": {},
   "outputs": [
    {
     "data": {
      "text/plain": [
       "array([25,  2,  5])"
      ]
     },
     "execution_count": 5,
     "metadata": {},
     "output_type": "execute_result"
    }
   ],
   "source": [
    "#transpose of array x\n",
    "x.transpose()\n"
   ]
  },
  {
   "cell_type": "code",
   "execution_count": 7,
   "id": "74b53dea",
   "metadata": {},
   "outputs": [
    {
     "name": "stdout",
     "output_type": "stream",
     "text": [
      "[[25  2]\n",
      " [ 5 26]\n",
      " [ 3  7]]\n"
     ]
    }
   ],
   "source": [
    "# number 5\n",
    "#generating a numpy array\n",
    "X=np.array([[25,2],[5,26],[3,7]])\n",
    "print(X)"
   ]
  },
  {
   "cell_type": "code",
   "execution_count": 8,
   "id": "888a3fe6",
   "metadata": {},
   "outputs": [
    {
     "data": {
      "text/plain": [
       "(3, 2)"
      ]
     },
     "execution_count": 8,
     "metadata": {},
     "output_type": "execute_result"
    }
   ],
   "source": [
    "#1.generating its shape\n",
    "X.shape"
   ]
  },
  {
   "cell_type": "code",
   "execution_count": 9,
   "id": "3e9bc161",
   "metadata": {},
   "outputs": [
    {
     "data": {
      "text/plain": [
       "array([[25,  5,  3],\n",
       "       [ 2, 26,  7]])"
      ]
     },
     "execution_count": 9,
     "metadata": {},
     "output_type": "execute_result"
    }
   ],
   "source": [
    "#2.generating its transpose\n",
    "X.transpose()"
   ]
  },
  {
   "cell_type": "code",
   "execution_count": 10,
   "id": "a76fc054",
   "metadata": {},
   "outputs": [
    {
     "name": "stdout",
     "output_type": "stream",
     "text": [
      "[[3 4]\n",
      " [5 6]\n",
      " [7 8]]\n"
     ]
    }
   ],
   "source": [
    "#3. generating matrix A\n",
    "A=np.array([[3,4],[5,6],[7,8]])\n",
    "print(A)"
   ]
  },
  {
   "cell_type": "code",
   "execution_count": 14,
   "id": "44060a34",
   "metadata": {},
   "outputs": [
    {
     "name": "stdout",
     "output_type": "stream",
     "text": [
      "[[ 75   8]\n",
      " [ 25 156]\n",
      " [ 21  56]]\n"
     ]
    }
   ],
   "source": [
    "#3. multiplication of X and A\n",
    "print(X*A)\n"
   ]
  },
  {
   "cell_type": "code",
   "execution_count": 17,
   "id": "9c052ef0",
   "metadata": {},
   "outputs": [
    {
     "name": "stdout",
     "output_type": "stream",
     "text": [
      "[[ 75   8]\n",
      " [ 25 156]\n",
      " [ 21  56]]\n"
     ]
    }
   ],
   "source": [
    "#4. inverse of the product of A and X\n",
    "#let the product of A and X be C\n",
    "#there fore;\n",
    "C=np.array([[75,8],[25,156],[21,56]])\n",
    "print(C)\n"
   ]
  },
  {
   "cell_type": "code",
   "execution_count": null,
   "id": "ddc89649",
   "metadata": {},
   "outputs": [],
   "source": [
    "print(np.linalg.inv(C))"
   ]
  },
  {
   "cell_type": "code",
   "execution_count": 23,
   "id": "0f1fd585",
   "metadata": {},
   "outputs": [
    {
     "name": "stdout",
     "output_type": "stream",
     "text": [
      "[[1.  0.2 0.5]\n",
      " [0.2 1.  0.8]\n",
      " [0.5 0.8 1. ]]\n"
     ]
    }
   ],
   "source": [
    "#number 6\n",
    "#part a\n",
    "#let the matrix be m\n",
    "m=np.array([1,0.2,0.5],[0.2,1,0.8],[0.5,0.8,1])\n",
    "print(m)"
   ]
  },
  {
   "cell_type": "code",
   "execution_count": 24,
   "id": "d930c8a3",
   "metadata": {},
   "outputs": [
    {
     "data": {
      "text/plain": [
       "array([[1. , 0.2, 0.5],\n",
       "       [0.2, 1. , 0.8],\n",
       "       [0.5, 0.8, 1. ]])"
      ]
     },
     "execution_count": 24,
     "metadata": {},
     "output_type": "execute_result"
    }
   ],
   "source": [
    "m.transpose()"
   ]
  },
  {
   "cell_type": "code",
   "execution_count": null,
   "id": "b7caab7c",
   "metadata": {},
   "outputs": [],
   "source": [
    "\n"
   ]
  },
  {
   "cell_type": "code",
   "execution_count": 33,
   "id": "9656d530",
   "metadata": {},
   "outputs": [
    {
     "name": "stdout",
     "output_type": "stream",
     "text": [
      "0\n"
     ]
    }
   ],
   "source": [
    "#part b\n",
    "det=np.linalg.det(m)\n",
    "print(int(det))"
   ]
  },
  {
   "cell_type": "code",
   "execution_count": null,
   "id": "4ed074b3",
   "metadata": {},
   "outputs": [],
   "source": [
    "#SECTION 1\n",
    "#number 1    \n",
    "D .0.019\n",
    "\n",
    "#NUMBER 2\n",
    "B . 0.050%\n",
    "\n",
    "#number 3\n",
    "B  . 0.5210\n",
    "\n",
    "#NUMBER 4\n",
    "A. Pr(Monday|rain)\n",
    "\n",
    "#number 5\n",
    "C. The Probability that it is Monday, given that it is raining\n",
    "\n",
    "#number 6\n",
    "B. Pr(rain|Monday)\n",
    "\n",
    "#number 7\n",
    "A. Pr(AnB) = Pr(A)+Pr(B)\n",
    "\n",
    "#number 8\n",
    "D. Insufficient Information provided\n",
    "this data suggest that \"getting an A\" and \"living on campus\"  independent\n",
    "\n",
    "#number 9\n",
    "#part (a)\n",
    " D. Insufficient Information provided\n",
    "there are 12 options\n",
    "\n",
    "#number 10\n",
    "#part (a)\n",
    "B. 0.501\n",
    "#part (b)\n",
    "(3) 0.430\n",
    "\n",
    "\n",
    "\n"
   ]
  },
  {
   "cell_type": "code",
   "execution_count": null,
   "id": "f0112e31",
   "metadata": {},
   "outputs": [],
   "source": [
    "\n"
   ]
  },
  {
   "cell_type": "code",
   "execution_count": null,
   "id": "d3c79154",
   "metadata": {},
   "outputs": [],
   "source": []
  }
 ],
 "metadata": {
  "kernelspec": {
   "display_name": "Python 3 (ipykernel)",
   "language": "python",
   "name": "python3"
  },
  "language_info": {
   "codemirror_mode": {
    "name": "ipython",
    "version": 3
   },
   "file_extension": ".py",
   "mimetype": "text/x-python",
   "name": "python",
   "nbconvert_exporter": "python",
   "pygments_lexer": "ipython3",
   "version": "3.9.12"
  }
 },
 "nbformat": 4,
 "nbformat_minor": 5
}
